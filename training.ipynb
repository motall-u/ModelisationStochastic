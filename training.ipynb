{
 "cells": [
  {
   "cell_type": "code",
   "execution_count": 39,
   "id": "fancy-stevens",
   "metadata": {},
   "outputs": [],
   "source": [
    "import pandas as pd\n",
    "from sklearn.linear_model import LinearRegression\n",
    "from sklearn.model_selection import train_test_split\n",
    "import numpy as np\n",
    "from sklearn import metrics\n",
    "from sklearn.preprocessing import StandardScaler\n"
   ]
  },
  {
   "cell_type": "code",
   "execution_count": 6,
   "id": "general-barcelona",
   "metadata": {},
   "outputs": [],
   "source": [
    "data = pd.read_csv(\"data.csv\")"
   ]
  },
  {
   "cell_type": "code",
   "execution_count": 9,
   "id": "bottom-coordination",
   "metadata": {},
   "outputs": [],
   "source": [
    "data_columns  = [\n",
    "    \"CustomerType\",\n",
    "    \"ArrivalTime\",\n",
    "    \"Q1_Size\",\n",
    "    \"Q2_Size\",\n",
    "    \"Q3_Size\",\n",
    "    \"Q4_Size\",\n",
    "    \"Q5_Size\",\n",
    "    \"Q6_Size\",\n",
    "    \"Q7_Size\",\n",
    "    \"Q8Size\",\n",
    "    \"LES\",\n",
    "    \"Number_of_agent\",\n",
    "    \"WaitingTime\"\n",
    "]"
   ]
  },
  {
   "cell_type": "code",
   "execution_count": 10,
   "id": "satisfactory-zealand",
   "metadata": {},
   "outputs": [],
   "source": [
    "data.columns = data_columns"
   ]
  },
  {
   "cell_type": "code",
   "execution_count": 13,
   "id": "pressing-plastic",
   "metadata": {},
   "outputs": [
    {
     "data": {
      "text/html": [
       "<div>\n",
       "<style scoped>\n",
       "    .dataframe tbody tr th:only-of-type {\n",
       "        vertical-align: middle;\n",
       "    }\n",
       "\n",
       "    .dataframe tbody tr th {\n",
       "        vertical-align: top;\n",
       "    }\n",
       "\n",
       "    .dataframe thead th {\n",
       "        text-align: right;\n",
       "    }\n",
       "</style>\n",
       "<table border=\"1\" class=\"dataframe\">\n",
       "  <thead>\n",
       "    <tr style=\"text-align: right;\">\n",
       "      <th></th>\n",
       "      <th>CustomerType</th>\n",
       "      <th>ArrivalTime</th>\n",
       "      <th>Q1_Size</th>\n",
       "      <th>Q2_Size</th>\n",
       "      <th>Q3_Size</th>\n",
       "      <th>Q4_Size</th>\n",
       "      <th>Q5_Size</th>\n",
       "      <th>Q6_Size</th>\n",
       "      <th>Q7_Size</th>\n",
       "      <th>Q8Size</th>\n",
       "      <th>LES</th>\n",
       "      <th>Number_of_agent</th>\n",
       "      <th>WaitingTime</th>\n",
       "    </tr>\n",
       "  </thead>\n",
       "  <tbody>\n",
       "    <tr>\n",
       "      <th>0</th>\n",
       "      <td>30175</td>\n",
       "      <td>39947.0</td>\n",
       "      <td>2</td>\n",
       "      <td>0</td>\n",
       "      <td>0</td>\n",
       "      <td>0</td>\n",
       "      <td>0</td>\n",
       "      <td>0</td>\n",
       "      <td>1</td>\n",
       "      <td>0</td>\n",
       "      <td>32.0</td>\n",
       "      <td>83</td>\n",
       "      <td>24.0</td>\n",
       "    </tr>\n",
       "    <tr>\n",
       "      <th>1</th>\n",
       "      <td>30560</td>\n",
       "      <td>40227.0</td>\n",
       "      <td>2</td>\n",
       "      <td>2</td>\n",
       "      <td>0</td>\n",
       "      <td>0</td>\n",
       "      <td>0</td>\n",
       "      <td>0</td>\n",
       "      <td>0</td>\n",
       "      <td>0</td>\n",
       "      <td>58.0</td>\n",
       "      <td>69</td>\n",
       "      <td>81.0</td>\n",
       "    </tr>\n",
       "    <tr>\n",
       "      <th>2</th>\n",
       "      <td>30175</td>\n",
       "      <td>40249.0</td>\n",
       "      <td>0</td>\n",
       "      <td>2</td>\n",
       "      <td>1</td>\n",
       "      <td>1</td>\n",
       "      <td>0</td>\n",
       "      <td>0</td>\n",
       "      <td>0</td>\n",
       "      <td>0</td>\n",
       "      <td>42.0</td>\n",
       "      <td>83</td>\n",
       "      <td>58.0</td>\n",
       "    </tr>\n",
       "    <tr>\n",
       "      <th>3</th>\n",
       "      <td>30241</td>\n",
       "      <td>39929.0</td>\n",
       "      <td>1</td>\n",
       "      <td>0</td>\n",
       "      <td>0</td>\n",
       "      <td>1</td>\n",
       "      <td>0</td>\n",
       "      <td>0</td>\n",
       "      <td>0</td>\n",
       "      <td>0</td>\n",
       "      <td>58.0</td>\n",
       "      <td>40</td>\n",
       "      <td>20.0</td>\n",
       "    </tr>\n",
       "    <tr>\n",
       "      <th>4</th>\n",
       "      <td>30181</td>\n",
       "      <td>40392.0</td>\n",
       "      <td>4</td>\n",
       "      <td>1</td>\n",
       "      <td>0</td>\n",
       "      <td>1</td>\n",
       "      <td>0</td>\n",
       "      <td>0</td>\n",
       "      <td>0</td>\n",
       "      <td>0</td>\n",
       "      <td>69.0</td>\n",
       "      <td>79</td>\n",
       "      <td>65.0</td>\n",
       "    </tr>\n",
       "  </tbody>\n",
       "</table>\n",
       "</div>"
      ],
      "text/plain": [
       "   CustomerType  ArrivalTime  Q1_Size  Q2_Size  Q3_Size  Q4_Size  Q5_Size  \\\n",
       "0         30175      39947.0        2        0        0        0        0   \n",
       "1         30560      40227.0        2        2        0        0        0   \n",
       "2         30175      40249.0        0        2        1        1        0   \n",
       "3         30241      39929.0        1        0        0        1        0   \n",
       "4         30181      40392.0        4        1        0        1        0   \n",
       "\n",
       "   Q6_Size  Q7_Size  Q8Size   LES  Number_of_agent  WaitingTime  \n",
       "0        0        1       0  32.0               83         24.0  \n",
       "1        0        0       0  58.0               69         81.0  \n",
       "2        0        0       0  42.0               83         58.0  \n",
       "3        0        0       0  58.0               40         20.0  \n",
       "4        0        0       0  69.0               79         65.0  "
      ]
     },
     "execution_count": 13,
     "metadata": {},
     "output_type": "execute_result"
    }
   ],
   "source": [
    "data.head()"
   ]
  },
  {
   "cell_type": "code",
   "execution_count": 12,
   "id": "theoretical-macedonia",
   "metadata": {},
   "outputs": [
    {
     "data": {
      "text/plain": [
       "CustomerType       0\n",
       "ArrivalTime        0\n",
       "Q1_Size            0\n",
       "Q2_Size            0\n",
       "Q3_Size            0\n",
       "Q4_Size            0\n",
       "Q5_Size            0\n",
       "Q6_Size            0\n",
       "Q7_Size            0\n",
       "Q8Size             0\n",
       "LES                0\n",
       "Number_of_agent    0\n",
       "WaitingTime        0\n",
       "dtype: int64"
      ]
     },
     "execution_count": 12,
     "metadata": {},
     "output_type": "execute_result"
    }
   ],
   "source": [
    "data.isnull().sum()"
   ]
  },
  {
   "cell_type": "code",
   "execution_count": 65,
   "id": "digital-income",
   "metadata": {},
   "outputs": [
    {
     "data": {
      "text/plain": [
       "array([24., 81., 58., ..., 32.,  3.,  3.])"
      ]
     },
     "execution_count": 65,
     "metadata": {},
     "output_type": "execute_result"
    }
   ],
   "source": [
    "X= data.drop('WaitingTime',axis=1)\n",
    "y = np.array(data['WaitingTime'])\n",
    "y"
   ]
  },
  {
   "cell_type": "code",
   "execution_count": 66,
   "id": "documented-status",
   "metadata": {},
   "outputs": [],
   "source": [
    "X_train,X_test, y_train,y_test = train_test_split(X,y)"
   ]
  },
  {
   "cell_type": "code",
   "execution_count": 67,
   "id": "biblical-clock",
   "metadata": {},
   "outputs": [],
   "source": [
    "linreg = LinearRegression()"
   ]
  },
  {
   "cell_type": "code",
   "execution_count": 68,
   "id": "entertaining-kazakhstan",
   "metadata": {},
   "outputs": [
    {
     "data": {
      "text/plain": [
       "LinearRegression()"
      ]
     },
     "execution_count": 68,
     "metadata": {},
     "output_type": "execute_result"
    }
   ],
   "source": [
    "linreg.fit(X_train,y_train)"
   ]
  },
  {
   "cell_type": "code",
   "execution_count": 69,
   "id": "reported-panic",
   "metadata": {},
   "outputs": [],
   "source": [
    "y_pred = linreg.predict(X_test)"
   ]
  },
  {
   "cell_type": "code",
   "execution_count": 70,
   "id": "difficult-pioneer",
   "metadata": {},
   "outputs": [
    {
     "data": {
      "text/plain": [
       "12.845659012112474"
      ]
     },
     "execution_count": 70,
     "metadata": {},
     "output_type": "execute_result"
    }
   ],
   "source": [
    "metrics.mean_absolute_error(y_test,y_pred)"
   ]
  },
  {
   "cell_type": "code",
   "execution_count": null,
   "id": "front-collective",
   "metadata": {},
   "outputs": [],
   "source": []
  }
 ],
 "metadata": {
  "kernelspec": {
   "display_name": "Python 3",
   "language": "python",
   "name": "python3"
  },
  "language_info": {
   "codemirror_mode": {
    "name": "ipython",
    "version": 3
   },
   "file_extension": ".py",
   "mimetype": "text/x-python",
   "name": "python",
   "nbconvert_exporter": "python",
   "pygments_lexer": "ipython3",
   "version": "3.8.10"
  }
 },
 "nbformat": 4,
 "nbformat_minor": 5
}
